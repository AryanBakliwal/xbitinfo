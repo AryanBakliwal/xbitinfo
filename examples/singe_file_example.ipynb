{
 "cells": [
  {
   "cell_type": "markdown",
   "id": "3f2c9098",
   "metadata": {},
   "source": [
    "# Example to retrieve bitinformation"
   ]
  },
  {
   "cell_type": "code",
   "execution_count": 1,
   "id": "ce5606f8",
   "metadata": {},
   "outputs": [
    {
     "name": "stderr",
     "output_type": "stream",
     "text": [
      "    Updating registry at `~/mambaforge/envs/bitinfo/share/julia/registries/General.toml`\n",
      "   Resolving package versions...\n",
      "  No Changes to `~/mambaforge/envs/bitinfo/share/julia/environments/bitinfo/Project.toml`\n",
      "  No Changes to `~/mambaforge/envs/bitinfo/share/julia/environments/bitinfo/Manifest.toml`\n",
      "   Resolving package versions...\n",
      "  No Changes to `~/mambaforge/envs/bitinfo/share/julia/environments/bitinfo/Project.toml`\n",
      "  No Changes to `~/mambaforge/envs/bitinfo/share/julia/environments/bitinfo/Manifest.toml`\n",
      "   Resolving package versions...\n",
      "  No Changes to `~/mambaforge/envs/bitinfo/share/julia/environments/bitinfo/Project.toml`\n",
      "  No Changes to `~/mambaforge/envs/bitinfo/share/julia/environments/bitinfo/Manifest.toml`\n",
      "   Resolving package versions...\n",
      "  No Changes to `~/mambaforge/envs/bitinfo/share/julia/environments/bitinfo/Project.toml`\n",
      "  No Changes to `~/mambaforge/envs/bitinfo/share/julia/environments/bitinfo/Manifest.toml`\n",
      "   Resolving package versions...\n",
      "  No Changes to `~/mambaforge/envs/bitinfo/share/julia/environments/bitinfo/Project.toml`\n",
      "  No Changes to `~/mambaforge/envs/bitinfo/share/julia/environments/bitinfo/Manifest.toml`\n"
     ]
    }
   ],
   "source": [
    "import bitinformation_pipeline as bp"
   ]
  },
  {
   "cell_type": "markdown",
   "id": "b1af1de1",
   "metadata": {},
   "source": [
    "## Download testdata"
   ]
  },
  {
   "cell_type": "code",
   "execution_count": 2,
   "id": "f2291bbd",
   "metadata": {},
   "outputs": [
    {
     "name": "stdout",
     "output_type": "stream",
     "text": [
      "  % Total    % Received % Xferd  Average Speed   Time    Time     Time  Current\n",
      "                                 Dload  Upload   Total   Spent    Left  Speed\n",
      "100 2880k  100 2880k    0     0   438k      0  0:00:06  0:00:06 --:--:--  610k\n"
     ]
    }
   ],
   "source": [
    "!curl -o tos_O1_2001-2002.nc https://www.unidata.ucar.edu/software/netcdf/examples/tos_O1_2001-2002.nc"
   ]
  },
  {
   "cell_type": "markdown",
   "id": "822d7b08",
   "metadata": {},
   "source": [
    "## Get information content per bit"
   ]
  },
  {
   "cell_type": "code",
   "execution_count": 3,
   "id": "1057cc3b",
   "metadata": {},
   "outputs": [
    {
     "name": "stdout",
     "output_type": "stream",
     "text": [
      "Processing: tos\n"
     ]
    }
   ],
   "source": [
    "bitinfo = bp.get_bitinformation(\"tos_O1_2001-2002.nc\")"
   ]
  },
  {
   "cell_type": "code",
   "execution_count": 5,
   "id": "17b051b4",
   "metadata": {},
   "outputs": [
    {
     "data": {
      "text/plain": [
       "{'tos': array([0., 0., 0., 0., 0., 0., 0., 0., 0., 0., 0., 0., 0., 0., 0., 0., 0.,\n",
       "        0., 0., 0., 0., 0., 0., 0., 0., 0., 0., 0., 0., 0., 0., 0.])}"
      ]
     },
     "execution_count": 5,
     "metadata": {},
     "output_type": "execute_result"
    }
   ],
   "source": [
    "bitinfo"
   ]
  },
  {
   "cell_type": "markdown",
   "id": "c14645a5",
   "metadata": {},
   "source": [
    "## Get keepbits"
   ]
  },
  {
   "cell_type": "code",
   "execution_count": 6,
   "id": "5385105d",
   "metadata": {},
   "outputs": [
    {
     "data": {
      "text/plain": [
       "{'tos': 32}"
      ]
     },
     "execution_count": 6,
     "metadata": {},
     "output_type": "execute_result"
    }
   ],
   "source": [
    "bp.get_keepbits(bitinfo, 0.99)"
   ]
  },
  {
   "cell_type": "code",
   "execution_count": null,
   "id": "757e91fd",
   "metadata": {},
   "outputs": [],
   "source": []
  }
 ],
 "metadata": {
  "kernelspec": {
   "display_name": "bitinfo",
   "language": "python",
   "name": "bitinfo"
  },
  "language_info": {
   "codemirror_mode": {
    "name": "ipython",
    "version": 3
   },
   "file_extension": ".py",
   "mimetype": "text/x-python",
   "name": "python",
   "nbconvert_exporter": "python",
   "pygments_lexer": "ipython3",
   "version": "3.10.4"
  }
 },
 "nbformat": 4,
 "nbformat_minor": 5
}
