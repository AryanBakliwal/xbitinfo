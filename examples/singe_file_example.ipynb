{
 "cells": [
  {
   "cell_type": "markdown",
   "id": "3f2c9098",
   "metadata": {},
   "source": [
    "# Example to retrieve bitinformation"
   ]
  },
  {
   "cell_type": "code",
   "execution_count": null,
   "id": "ce5606f8",
   "metadata": {},
   "outputs": [],
   "source": [
    "import bitinformation_pipeline as bp"
   ]
  },
  {
   "cell_type": "markdown",
   "id": "b1af1de1",
   "metadata": {},
   "source": [
    "## Download testdata"
   ]
  },
  {
   "cell_type": "code",
   "execution_count": null,
   "id": "f2291bbd",
   "metadata": {},
   "outputs": [],
   "source": [
    "!curl -o tos_O1_2001-2002.nc https://www.unidata.ucar.edu/software/netcdf/examples/tos_O1_2001-2002.nc"
   ]
  },
  {
   "cell_type": "markdown",
   "id": "822d7b08",
   "metadata": {},
   "source": [
    "## Get information content per bit"
   ]
  },
  {
   "cell_type": "code",
   "execution_count": null,
   "id": "17ed6911-f0f4-4f15-aae6-f35adf4def65",
   "metadata": {},
   "outputs": [],
   "source": [
    "import xarray as xr"
   ]
  },
  {
   "cell_type": "code",
   "execution_count": null,
   "id": "b6f1bcc1-fb6b-47d5-9603-5a915a04f768",
   "metadata": {},
   "outputs": [],
   "source": [
    "ds = xr.open_dataset(\"tos_O1_2001-2002.nc\")"
   ]
  },
  {
   "cell_type": "code",
   "execution_count": null,
   "id": "1057cc3b",
   "metadata": {},
   "outputs": [
    {
     "name": "stdout",
     "output_type": "stream",
     "text": [
      "Processing: tos\n"
     ]
    }
   ],
   "source": [
    "bitinfo = bp.get_bitinformation(ds)"
   ]
  },
  {
   "cell_type": "code",
   "execution_count": null,
   "id": "17b051b4",
   "metadata": {},
   "outputs": [
    {
     "data": {
      "text/plain": [
       "{'tos': array([0., 0., 0., 0., 0., 0., 0., 0., 0., 0., 0., 0., 0., 0., 0., 0., 0.,\n",
       "        0., 0., 0., 0., 0., 0., 0., 0., 0., 0., 0., 0., 0., 0., 0.])}"
      ]
     },
     "execution_count": null,
     "metadata": {},
     "output_type": "execute_result"
    }
   ],
   "source": [
    "bitinfo"
   ]
  },
  {
   "cell_type": "markdown",
   "id": "c14645a5",
   "metadata": {},
   "source": [
    "## Get keepbits"
   ]
  },
  {
   "cell_type": "code",
   "execution_count": null,
   "id": "5385105d",
   "metadata": {},
   "outputs": [
    {
     "data": {
      "text/plain": [
       "{'tos': 32}"
      ]
     },
     "execution_count": null,
     "metadata": {},
     "output_type": "execute_result"
    }
   ],
   "source": [
    "bp.get_keepbits(bitinfo, 0.99)"
   ]
  },
  {
   "cell_type": "code",
   "execution_count": null,
   "id": "757e91fd",
   "metadata": {},
   "outputs": [],
   "source": []
  }
 ],
 "metadata": {
  "kernelspec": {
   "display_name": "bitinfo",
   "language": "python",
   "name": "bitinfo"
  },
  "language_info": {
   "codemirror_mode": {
    "name": "ipython",
    "version": 3
   },
   "file_extension": ".py",
   "mimetype": "text/x-python",
   "name": "python",
   "nbconvert_exporter": "python",
   "pygments_lexer": "ipython3",
   "version": "3.10.4"
  }
 },
 "nbformat": 4,
 "nbformat_minor": 5
}
