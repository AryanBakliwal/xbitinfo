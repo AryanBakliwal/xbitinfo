{
 "cells": [
  {
   "cell_type": "markdown",
   "id": "3f2c9098",
   "metadata": {},
   "source": [
    "# Example to retrieve bitinformation"
   ]
  },
  {
   "cell_type": "code",
   "execution_count": 1,
   "id": "0f7e319d-8e1c-4116-8ea3-59349e26fdad",
   "metadata": {},
   "outputs": [
    {
     "data": {
      "text/plain": [
       "<xarray.core.options.set_options at 0x7ffff048e410>"
      ]
     },
     "execution_count": 1,
     "metadata": {},
     "output_type": "execute_result"
    }
   ],
   "source": [
    "import bitinformation_pipeline as bp\n",
    "\n",
    "import xarray as xr\n",
    "\n",
    "xr.set_options(display_style=\"text\")"
   ]
  },
  {
   "cell_type": "code",
   "execution_count": 2,
   "id": "b6f1bcc1-fb6b-47d5-9603-5a915a04f768",
   "metadata": {},
   "outputs": [
    {
     "data": {
      "text/html": [
       "<pre>&lt;xarray.Dataset&gt;\n",
       "Dimensions:    (longitude: 480, latitude: 241, level: 3, month: 2)\n",
       "Coordinates:\n",
       "  * longitude  (longitude) float32 -180.0 -179.2 -178.5 ... 177.8 178.5 179.2\n",
       "  * latitude   (latitude) float32 90.0 89.25 88.5 87.75 ... -88.5 -89.25 -90.0\n",
       "  * level      (level) int32 200 500 850\n",
       "  * month      (month) int32 1 7\n",
       "Data variables:\n",
       "    z          (month, level, latitude, longitude) float32 1.068e+05 ... 1.17...\n",
       "    u          (month, level, latitude, longitude) float32 1.282 1.282 ... 3.539\n",
       "    v          (month, level, latitude, longitude) float32 -0.04676 ... 3.383\n",
       "Attributes:\n",
       "    Conventions:  CF-1.0\n",
       "    Info:         Monthly ERA-Interim data. Downloaded and edited by fabien.m...</pre>"
      ],
      "text/plain": [
       "<xarray.Dataset>\n",
       "Dimensions:    (longitude: 480, latitude: 241, level: 3, month: 2)\n",
       "Coordinates:\n",
       "  * longitude  (longitude) float32 -180.0 -179.2 -178.5 ... 177.8 178.5 179.2\n",
       "  * latitude   (latitude) float32 90.0 89.25 88.5 87.75 ... -88.5 -89.25 -90.0\n",
       "  * level      (level) int32 200 500 850\n",
       "  * month      (month) int32 1 7\n",
       "Data variables:\n",
       "    z          (month, level, latitude, longitude) float32 1.068e+05 ... 1.17...\n",
       "    u          (month, level, latitude, longitude) float32 1.282 1.282 ... 3.539\n",
       "    v          (month, level, latitude, longitude) float32 -0.04676 ... 3.383\n",
       "Attributes:\n",
       "    Conventions:  CF-1.0\n",
       "    Info:         Monthly ERA-Interim data. Downloaded and edited by fabien.m..."
      ]
     },
     "execution_count": 2,
     "metadata": {},
     "output_type": "execute_result"
    }
   ],
   "source": [
    "ds = xr.tutorial.load_dataset(\"eraint_uvz\")\n",
    "ds"
   ]
  },
  {
   "cell_type": "markdown",
   "id": "822d7b08",
   "metadata": {},
   "source": [
    "## Get information content per bit\n",
    "\n",
    "using `bp.get_bitinformation(ds)`"
   ]
  },
  {
   "cell_type": "code",
   "execution_count": 3,
   "id": "1057cc3b",
   "metadata": {},
   "outputs": [],
   "source": [
    "bitinfo = bp.get_bitinformation(ds, dim=\"longitude\")"
   ]
  },
  {
   "cell_type": "code",
   "execution_count": 4,
   "id": "17b051b4",
   "metadata": {},
   "outputs": [
    {
     "data": {
      "text/plain": [
       "{'z': array([0.        , 0.        , 0.        , 0.        , 0.91829583,\n",
       "        0.91829583, 0.91829583, 0.91829583, 0.91829583, 0.40597987,\n",
       "        0.97813317, 0.92345566, 0.94110151, 0.90203657, 0.8247607 ,\n",
       "        0.71141225, 0.5438129 , 0.34736521, 0.18071818, 0.07422916,\n",
       "        0.02209656, 0.01242773, 0.00376525, 0.0063021 , 0.01216959,\n",
       "        0.00396454, 0.00974382, 0.01305445, 0.0057873 , 0.00881731,\n",
       "        0.07362144, 0.03547825]),\n",
       " 'u': array([7.81551166e-01, 4.27368873e-01, 0.00000000e+00, 0.00000000e+00,\n",
       "        1.71784890e-04, 0.00000000e+00, 6.35087027e-01, 8.04998644e-01,\n",
       "        6.78173345e-01, 5.34953509e-01, 3.99057599e-01, 2.46682018e-01,\n",
       "        1.15975974e-01, 3.33193673e-02, 5.71625413e-03, 3.46793302e-03,\n",
       "        5.60559971e-03, 9.26856669e-03, 7.74869031e-03, 5.38505820e-03,\n",
       "        2.64753221e-03, 6.21931327e-04, 3.98964294e-04, 6.25654347e-04,\n",
       "        4.42540269e-03, 4.41147894e-03, 6.09522875e-03, 1.13969368e-02,\n",
       "        2.87556652e-02, 6.80668728e-02, 9.65308234e-02, 1.40029881e-01]),\n",
       " 'v': array([8.75197248e-01, 7.75251387e-01, 0.00000000e+00, 0.00000000e+00,\n",
       "        0.00000000e+00, 2.74788093e-03, 1.17638534e-01, 5.01260173e-01,\n",
       "        4.06640203e-01, 2.28962407e-01, 1.01645056e-01, 2.72944354e-02,\n",
       "        3.76044002e-03, 4.47682625e-04, 1.52083889e-04, 1.29738676e-04,\n",
       "        5.02708565e-05, 4.12870994e-05, 3.34653283e-05, 2.80118645e-05,\n",
       "        3.77057105e-05, 2.93861450e-04, 8.54310197e-04, 3.40577883e-04,\n",
       "        5.83230917e-04, 8.18710427e-04, 1.83836299e-03, 6.32366170e-03,\n",
       "        1.90398426e-02, 3.57106306e-02, 8.52843993e-02, 2.33775350e-02])}"
      ]
     },
     "execution_count": 4,
     "metadata": {},
     "output_type": "execute_result"
    }
   ],
   "source": [
    "bitinfo"
   ]
  },
  {
   "cell_type": "markdown",
   "id": "c14645a5",
   "metadata": {},
   "source": [
    "## Get keepbits\n",
    "\n",
    "using `bp.get_bitinformation(ds, bitinfo)`"
   ]
  },
  {
   "cell_type": "code",
   "execution_count": 5,
   "id": "5385105d",
   "metadata": {},
   "outputs": [
    {
     "data": {
      "text/plain": [
       "{'z': 19, 'u': 12, 'v': 10}"
      ]
     },
     "execution_count": 5,
     "metadata": {},
     "output_type": "execute_result"
    }
   ],
   "source": [
    "bp.get_keepbits(ds, bitinfo, 0.99)"
   ]
  },
  {
   "cell_type": "markdown",
   "id": "bdfd9186",
   "metadata": {},
   "source": [
    "## Visualize information content"
   ]
  },
  {
   "cell_type": "code",
   "execution_count": 6,
   "id": "05d43ae8",
   "metadata": {},
   "outputs": [
    {
     "data": {
      "image/png": "[encoded data removed]",
      "text/plain": [
       "<Figure size 864x288 with 3 Axes>"
      ]
     },
     "metadata": {
      "needs_background": "light"
     },
     "output_type": "display_data"
    }
   ],
   "source": [
    "fig = bp.plot_bitinformation(ds, bitinfo)"
   ]
  },
  {
   "cell_type": "code",
   "execution_count": null,
   "id": "1b12cd26-9bfa-4f84-8ae3-923dc16c32d6",
   "metadata": {},
   "outputs": [],
   "source": []
  }
 ],
 "metadata": {
  "kernelspec": {
   "display_name": "bitinfo",
   "language": "python",
   "name": "bitinfo"
  },
  "language_info": {
   "codemirror_mode": {
    "name": "ipython",
    "version": 3
   },
   "file_extension": ".py",
   "mimetype": "text/x-python",
   "name": "python",
   "nbconvert_exporter": "python",
   "pygments_lexer": "ipython3",
   "version": "3.10.4"
  },
  "toc-autonumbering": true
 },
 "nbformat": 4,
 "nbformat_minor": 5
}
